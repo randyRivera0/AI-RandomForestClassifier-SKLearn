{
  "cells": [
    {
      "cell_type": "code",
      "execution_count": 1,
      "metadata": {
        "id": "fdhUp7CkBqoO"
      },
      "outputs": [],
      "source": [
        "import numpy as np\n",
        "import pandas as pd\n",
        "from matplotlib import pyplot as plt\n",
        "import seaborn as sns\n",
        "from sklearn.linear_model import LogisticRegression\n",
        "from sklearn.model_selection import train_test_split\n",
        "from sklearn.metrics import accuracy_score, precision_score, recall_score, f1_score, roc_auc_score"
      ]
    },
    {
      "cell_type": "code",
      "execution_count": 2,
      "metadata": {
        "id": "lMWnqrA1B-04"
      },
      "outputs": [],
      "source": [
        "df = pd.read_csv(\"heart.csv\", sep=\",\")"
      ]
    },
    {
      "cell_type": "code",
      "execution_count": 3,
      "metadata": {
        "id": "QBe3qNgCCIJ4"
      },
      "outputs": [],
      "source": [
        "x = df.drop(columns=[\"output\"])\n",
        "x = df[[\"thalachh\", \"oldpeak\", \"cp\", \"caa\"]]\n",
        "y = df[\"output\"]"
      ]
    },
    {
      "cell_type": "code",
      "execution_count": 4,
      "metadata": {
        "id": "JS-p4trqCJqu"
      },
      "outputs": [],
      "source": [
        "from imblearn.over_sampling import SMOTE\n",
        "\n",
        "# smote\n",
        "smote=SMOTE(sampling_strategy=\"auto\",random_state=50, k_neighbors=6)\n",
        "x_resampled,y_resampled=smote.fit_resample(x,y)\n",
        "\n",
        "y_counts=y_resampled.value_counts()"
      ]
    },
    {
      "cell_type": "code",
      "execution_count": 5,
      "metadata": {
        "id": "Euvra8VBCM3x"
      },
      "outputs": [],
      "source": [
        "x_train, x_test, y_train, y_test = train_test_split(x_resampled,y_resampled, test_size=0.2, random_state = 0)\n",
        "x_train.reset_index(drop=True, inplace=True)\n",
        "x_test.reset_index(drop=True, inplace=True)"
      ]
    },
    {
      "cell_type": "code",
      "execution_count": 6,
      "metadata": {
        "id": "aHlbWWU0CPPn"
      },
      "outputs": [],
      "source": [
        "from sklearn.ensemble import RandomForestClassifier\n",
        "rf_classifier = RandomForestClassifier().fit(x_train, y_train)"
      ]
    },
    {
      "cell_type": "code",
      "execution_count": 7,
      "metadata": {
        "colab": {
          "base_uri": "https://localhost:8080/"
        },
        "id": "M2_ThX8TCgsE",
        "outputId": "b674fd0d-71ba-484c-8d60-8d39d8cf9d4e"
      },
      "outputs": [
        {
          "name": "stdout",
          "output_type": "stream",
          "text": [
            "age: 0.3\n",
            "sex: 0.29\n",
            "cp: 0.22\n",
            "trtbps: 0.19\n"
          ]
        }
      ],
      "source": [
        "importances = rf_classifier.feature_importances_\n",
        "\n",
        "# Asociar cada importancia con su característica correspondiente\n",
        "feature_importances = [(feature, round(importance, 2)) for feature, importance in zip(df.columns.tolist(), importances)]\n",
        "\n",
        "# Ordenar las características por importancia\n",
        "feature_importances = sorted(feature_importances, key=lambda x: x[1], reverse=True)\n",
        "\n",
        "# Imprimir la importancia de cada característica\n",
        "for feature, importance in feature_importances:\n",
        "    print(f\"{feature}: {importance}\")"
      ]
    },
    {
      "cell_type": "code",
      "execution_count": 8,
      "metadata": {
        "id": "DHzbulF6ClhX"
      },
      "outputs": [],
      "source": [
        "# print (f'Train Accuracy - : {rf_classifier.score(x_train,y_train):.3f}')\n",
        "# print (f'Test Accuracy - : {rf_classifier.score(x_test,y_test):.3f}')"
      ]
    },
    {
      "cell_type": "code",
      "execution_count": 9,
      "metadata": {
        "id": "L-zkAsD4Cn8S"
      },
      "outputs": [],
      "source": [
        "y_pred_test = rf_classifier.predict(x_test)\n",
        "\n",
        "y_pred = y_pred_test\n",
        "\n",
        "X_test = x_test\n",
        "# View accuracy score\n",
        "\n",
        "accuracy = accuracy_score(y_test, y_pred_test)\n",
        "\n",
        "precision = precision_score(y_test, y_pred)\n",
        "\n",
        "recall = recall_score(y_test, y_pred)\n",
        "\n",
        "f1 = f1_score(y_test, y_pred)\n",
        "\n",
        "y_proba = rf_classifier.predict_proba(X_test)[:, 1]  # Probabilities for positive class\n",
        "\n",
        "AUC = roc_auc_score(y_test, y_proba)"
      ]
    },
    {
      "cell_type": "code",
      "execution_count": 10,
      "metadata": {
        "colab": {
          "base_uri": "https://localhost:8080/",
          "height": 651
        },
        "id": "-5YqIMbRnaw_",
        "outputId": "beeb6ab8-48d7-42e2-d216-336922c99e91"
      },
      "outputs": [
        {
          "name": "stderr",
          "output_type": "stream",
          "text": [
            "C:\\Users\\User Dell\\AppData\\Local\\Temp\\ipykernel_18080\\1751892944.py:5: FutureWarning: \n",
            "\n",
            "Passing `palette` without assigning `hue` is deprecated and will be removed in v0.14.0. Assign the `x` variable to `hue` and set `legend=False` for the same effect.\n",
            "\n",
            "  sns.barplot(x= name_metrics, y= dato_metrics, palette=\"viridis\")\n"
          ]
        },
        {
          "data": {
            "image/png": "[encoded data removed]",
            "text/plain": [
              "<Figure size 1000x600 with 1 Axes>"
            ]
          },
          "metadata": {},
          "output_type": "display_data"
        }
      ],
      "source": [
        "name_metrics=[\"accuracy\", \"precision\", \"Recall\", \"F1_SCORE\", \"AUC\"]\n",
        "dato_metrics=[accuracy,precision,recall,f1,AUC]\n",
        "\n",
        "plt.figure(figsize=(10,6))\n",
        "sns.barplot(x= name_metrics, y= dato_metrics, palette=\"viridis\")\n",
        "plt.title(\"Grafica de evalción de las  metricas\")\n",
        "plt.xlabel(\"Metricas\")\n",
        "plt.ylabel(\"Valores\")\n",
        "plt.show()"
      ]
    },
    {
      "cell_type": "code",
      "execution_count": 11,
      "metadata": {
        "colab": {
          "base_uri": "https://localhost:8080/"
        },
        "id": "H_WzZqfwTysJ",
        "outputId": "6987a8bd-1243-40b2-a8d6-641eec46ede9"
      },
      "outputs": [
        {
          "name": "stdout",
          "output_type": "stream",
          "text": [
            "              precision    recall  f1-score   support\n",
            "\n",
            "           0       0.78      0.70      0.74        30\n",
            "           1       0.77      0.83      0.80        36\n",
            "\n",
            "    accuracy                           0.77        66\n",
            "   macro avg       0.77      0.77      0.77        66\n",
            "weighted avg       0.77      0.77      0.77        66\n",
            "\n"
          ]
        }
      ],
      "source": [
        "from sklearn.metrics import accuracy_score, confusion_matrix, classification_report\n",
        "print(classification_report(y_test, y_pred_test))"
      ]
    },
    {
      "cell_type": "code",
      "execution_count": 12,
      "metadata": {
        "colab": {
          "base_uri": "https://localhost:8080/",
          "height": 391
        },
        "id": "U23hday4C7JU",
        "outputId": "06a9d247-1391-4502-88a3-56f53f1f6e95"
      },
      "outputs": [
        {
          "data": {
            "text/plain": [
              "<Axes: >"
            ]
          },
          "execution_count": 12,
          "metadata": {},
          "output_type": "execute_result"
        },
        {
          "data": {
            "image/png": "[encoded data removed]",
            "text/plain": [
              "<Figure size 600x400 with 2 Axes>"
            ]
          },
          "metadata": {},
          "output_type": "display_data"
        }
      ],
      "source": [
        "from sklearn.metrics import confusion_matrix\n",
        "\n",
        "cm = confusion_matrix(y_test, y_pred)\n",
        "\n",
        "# visualize confusion matrix with seaborn heatmap\n",
        "\n",
        "plt.figure(figsize=(6,4))\n",
        "\n",
        "cm_matrix = pd.DataFrame(data=cm, columns=['Actual Positive:1', 'Actual Negative:0'],\n",
        "                                 index=['Predict Positive:1', 'Predict Negative:0'])\n",
        "\n",
        "sns.heatmap(cm_matrix, annot=True, fmt='d', cmap='YlGnBu')\n"
      ]
    }
  ],
  "metadata": {
    "colab": {
      "provenance": []
    },
    "kernelspec": {
      "display_name": "Python 3",
      "name": "python3"
    },
    "language_info": {
      "codemirror_mode": {
        "name": "ipython",
        "version": 3
      },
      "file_extension": ".py",
      "mimetype": "text/x-python",
      "name": "python",
      "nbconvert_exporter": "python",
      "pygments_lexer": "ipython3",
      "version": "3.12.3"
    }
  },
  "nbformat": 4,
  "nbformat_minor": 0
}
